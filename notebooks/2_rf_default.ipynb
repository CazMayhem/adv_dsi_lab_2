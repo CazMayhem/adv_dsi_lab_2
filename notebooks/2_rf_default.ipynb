{
 "cells": [
  {
   "cell_type": "markdown",
   "metadata": {},
   "source": [
    "## Lab 2 Exercise 2: Time-Series\n",
    "\n",
    "Random Forest\n",
    "We will train a RandomForest model on the same dataset as previously.\n",
    "\n",
    "Pre-requisites:\n",
    "\n",
    "Create a github account (https://github.com/join)\n",
    "Install git (https://git-scm.com/book/en/v2/Getting-Started-Installing-Git)\n",
    "Install Docker (https://docs.docker.com/get-docker/)\n",
    "The steps are:\n",
    "\n",
    "Launch Docker image\n",
    "Load Data\n",
    "Train RandomForest model\n",
    "Push changes"
   ]
  },
  {
   "cell_type": "code",
   "execution_count": null,
   "metadata": {},
   "outputs": [],
   "source": []
  },
  {
   "cell_type": "markdown",
   "metadata": {},
   "source": []
  },
  {
   "cell_type": "markdown",
   "metadata": {},
   "source": []
  }
 ],
 "metadata": {
  "interpreter": {
   "hash": "aee8b7b246df8f9039afb4144a1f6fd8d2ca17a180786b69acc140d282b71a49"
  },
  "kernelspec": {
   "display_name": "Python 3.7.7 64-bit",
   "language": "python",
   "name": "python3"
  },
  "language_info": {
   "codemirror_mode": {
    "name": "ipython",
    "version": 3
   },
   "file_extension": ".py",
   "mimetype": "text/x-python",
   "name": "python",
   "nbconvert_exporter": "python",
   "pygments_lexer": "ipython3",
   "version": "3.7.7"
  },
  "orig_nbformat": 4
 },
 "nbformat": 4,
 "nbformat_minor": 2
}
